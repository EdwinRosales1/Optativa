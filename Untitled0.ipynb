{
  "nbformat": 4,
  "nbformat_minor": 0,
  "metadata": {
    "colab": {
      "provenance": [],
      "authorship_tag": "ABX9TyPRBOM6L0edhOGr9SKofXWE",
      "include_colab_link": true
    },
    "kernelspec": {
      "name": "python3",
      "display_name": "Python 3"
    },
    "language_info": {
      "name": "python"
    }
  },
  "cells": [
    {
      "cell_type": "markdown",
      "metadata": {
        "id": "view-in-github",
        "colab_type": "text"
      },
      "source": [
        "<a href=\"https://colab.research.google.com/github/EdwinRosales1/Optativa/blob/main/Untitled0.ipynb\" target=\"_parent\"><img src=\"https://colab.research.google.com/assets/colab-badge.svg\" alt=\"Open In Colab\"/></a>"
      ]
    },
    {
      "cell_type": "markdown",
      "source": [
        "# Ejercicio 1"
      ],
      "metadata": {
        "id": "vIrL6Qa1SCAj"
      }
    },
    {
      "cell_type": "markdown",
      "source": [],
      "metadata": {
        "id": "vccT4CnHSDc4"
      }
    },
    {
      "cell_type": "code",
      "execution_count": 1,
      "metadata": {
        "id": "Qnbh9GrpSBJf"
      },
      "outputs": [],
      "source": [
        "import pandas as pd\n",
        "import numpy as np"
      ]
    },
    {
      "cell_type": "markdown",
      "source": [
        "# Crea una serie"
      ],
      "metadata": {
        "id": "yT24Y5TESIuX"
      }
    },
    {
      "cell_type": "code",
      "source": [
        "s = pd.Series([1, 3, 5, np.nan, 6, 8])\n",
        "print (\"Serie: \")\n",
        "print (s)"
      ],
      "metadata": {
        "colab": {
          "base_uri": "https://localhost:8080/"
        },
        "id": "-9UgyJCESN50",
        "outputId": "43d6ad2e-ebb5-4835-c3a7-d4661a6d06a6"
      },
      "execution_count": 2,
      "outputs": [
        {
          "output_type": "stream",
          "name": "stdout",
          "text": [
            "Serie: \n",
            "0    1.0\n",
            "1    3.0\n",
            "2    5.0\n",
            "3    NaN\n",
            "4    6.0\n",
            "5    8.0\n",
            "dtype: float64\n"
          ]
        }
      ]
    },
    {
      "cell_type": "markdown",
      "source": [
        "# Como crear un data frame"
      ],
      "metadata": {
        "id": "1DwEbUFxT3Sh"
      }
    },
    {
      "cell_type": "code",
      "source": [
        "df = pd.DataFrame({\n",
        "    'A' : [1, 2, 3, 4],\n",
        "    'B' : pd.Timestamp('20130101'),\n",
        "    'C' : pd.Series(1, index=list(range(4)), dtype='float32'),\n",
        "    'D' : np.array([3] * 4, dtype='int32'),\n",
        "    'E' : pd.Categorical([\"test\", \"train\", \"test\", \"train\"]),\n",
        "    'F' : 'foo'\n",
        "})\n",
        "print(\"\\nDataFrame: \")\n",
        "print(df)"
      ],
      "metadata": {
        "colab": {
          "base_uri": "https://localhost:8080/"
        },
        "id": "zmW0BCmnT6ZP",
        "outputId": "8baffe33-b996-445b-e918-fb6f1dbb5740"
      },
      "execution_count": 4,
      "outputs": [
        {
          "output_type": "stream",
          "name": "stdout",
          "text": [
            "\n",
            "DataFrame: \n",
            "   A          B    C  D      E    F\n",
            "0  1 2013-01-01  1.0  3   test  foo\n",
            "1  2 2013-01-01  1.0  3  train  foo\n",
            "2  3 2013-01-01  1.0  3   test  foo\n",
            "3  4 2013-01-01  1.0  3  train  foo\n"
          ]
        }
      ]
    },
    {
      "cell_type": "markdown",
      "source": [
        "# Explorar el DataFrame"
      ],
      "metadata": {
        "id": "lbEkm01MVx4c"
      }
    },
    {
      "cell_type": "code",
      "source": [
        "print(\"\\nTipos de datos: \")\n",
        "print(df.dtypes)\n",
        "print(\"\\nPrimeras 2 filas:\")\n",
        "print(df.head(2))\n",
        "print(\"\\nUltimas 2 filas:\")\n",
        "print(df.tail(2))\n"
      ],
      "metadata": {
        "colab": {
          "base_uri": "https://localhost:8080/"
        },
        "id": "cg-wlOWDV0z4",
        "outputId": "4a5200a7-a4c5-43e7-e843-e3af293dd625"
      },
      "execution_count": 5,
      "outputs": [
        {
          "output_type": "stream",
          "name": "stdout",
          "text": [
            "\n",
            "Tipos de datos: \n",
            "A            int64\n",
            "B    datetime64[s]\n",
            "C          float32\n",
            "D            int32\n",
            "E         category\n",
            "F           object\n",
            "dtype: object\n",
            "\n",
            "Primeras 2 filas:\n",
            "   A          B    C  D      E    F\n",
            "0  1 2013-01-01  1.0  3   test  foo\n",
            "1  2 2013-01-01  1.0  3  train  foo\n",
            "\n",
            "Ultimas 2 filas:\n",
            "   A          B    C  D      E    F\n",
            "2  3 2013-01-01  1.0  3   test  foo\n",
            "3  4 2013-01-01  1.0  3  train  foo\n"
          ]
        }
      ]
    }
  ]
}